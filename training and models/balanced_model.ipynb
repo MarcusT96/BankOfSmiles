{
 "cells": [
  {
   "cell_type": "code",
   "execution_count": 1,
   "id": "1628c93c",
   "metadata": {},
   "outputs": [],
   "source": [
    "from tensorflow.keras.preprocessing.image import ImageDataGenerator\n",
    "from tensorflow.keras.layers import Dense, Input, Dropout, GlobalAveragePooling2D, Flatten, Conv2D, BatchNormalization, Activation, MaxPooling2D\n",
    "from tensorflow.keras.models import Model, Sequential\n",
    "from tensorflow.keras.optimizers import Adam\n",
    "from tensorflow.keras.callbacks import ModelCheckpoint, EarlyStopping, ReduceLROnPlateau\n",
    "import tensorflow as tf"
   ]
  },
  {
   "cell_type": "code",
   "execution_count": 4,
   "id": "259a0be2",
   "metadata": {},
   "outputs": [],
   "source": [
    "picture_size = 32\n",
    "folder_path = \"images/\"\n",
    "batch_size = 32\n",
    "epochs = 100\n",
    "no_of_classes = 6"
   ]
  },
  {
   "cell_type": "code",
   "execution_count": 5,
   "id": "78cc0f38",
   "metadata": {},
   "outputs": [
    {
     "name": "stdout",
     "output_type": "stream",
     "text": [
      "Preprocessing images in: images\\train\n",
      "Found the following classes: ['angry', 'fear', 'happy', 'neutral', 'sad', 'surprise']\n",
      "Image counts per class: {'angry': 3993, 'fear': 4103, 'happy': 7164, 'neutral': 4982, 'sad': 4938, 'surprise': 3205}\n",
      "Balancing dataset. Each class will have 3205 images.\n"
     ]
    },
    {
     "name": "stderr",
     "output_type": "stream",
     "text": [
      "Processing images: 100%|██████████| 19230/19230 [03:07<00:00, 102.65it/s]\n"
     ]
    },
    {
     "name": "stdout",
     "output_type": "stream",
     "text": [
      "Converting to numpy array and normalizing...\n",
      "Encoding labels...\n",
      "Preprocessing images in: images\\validation\n",
      "Found the following classes: ['angry', 'fear', 'happy', 'neutral', 'sad', 'surprise']\n",
      "Image counts per class: {'angry': 960, 'fear': 1018, 'happy': 1825, 'neutral': 1216, 'sad': 1139, 'surprise': 797}\n",
      "Balancing dataset. Each class will have 797 images.\n"
     ]
    },
    {
     "name": "stderr",
     "output_type": "stream",
     "text": [
      "Processing images: 100%|██████████| 4782/4782 [00:55<00:00, 86.77it/s] "
     ]
    },
    {
     "name": "stdout",
     "output_type": "stream",
     "text": [
      "Converting to numpy array and normalizing...\n",
      "Encoding labels...\n",
      "Training data shape: (19230, 32, 32, 1)\n",
      "Training labels shape: (19230, 6)\n",
      "Validation data shape: (4782, 32, 32, 1)\n",
      "Validation labels shape: (4782, 6)\n",
      "Number of classes: 6\n",
      "Class names: ['angry' 'fear' 'happy' 'neutral' 'sad' 'surprise']\n"
     ]
    },
    {
     "name": "stderr",
     "output_type": "stream",
     "text": [
      "\n"
     ]
    }
   ],
   "source": [
    "import os\n",
    "import numpy as np\n",
    "from tensorflow.keras.preprocessing.image import load_img, img_to_array\n",
    "from tensorflow.keras.utils import to_categorical\n",
    "from sklearn.preprocessing import LabelEncoder\n",
    "from tqdm import tqdm\n",
    "from collections import Counter\n",
    "import random\n",
    "\n",
    "def preprocess_images(folder_path, picture_size, color_mode='grayscale', balance_dataset=True):\n",
    "    print(f\"Preprocessing images in: {folder_path}\")\n",
    "    \n",
    "    if not os.path.exists(folder_path):\n",
    "        print(f\"Error: The path {folder_path} does not exist.\")\n",
    "        print(f\"Current working directory: {os.getcwd()}\")\n",
    "        print(f\"Contents of current directory: {os.listdir('.')}\")\n",
    "        raise FileNotFoundError(f\"The path {folder_path} does not exist\")\n",
    "    \n",
    "    images = []\n",
    "    labels = []\n",
    "    class_names = sorted([d for d in os.listdir(folder_path) if os.path.isdir(os.path.join(folder_path, d))])\n",
    "    \n",
    "    print(f\"Found the following classes: {class_names}\")\n",
    "    \n",
    "    class_counts = Counter()\n",
    "    for class_name in class_names:\n",
    "        class_path = os.path.join(folder_path, class_name)\n",
    "        class_counts[class_name] = len([f for f in os.listdir(class_path) if os.path.isfile(os.path.join(class_path, f))])\n",
    "    \n",
    "    print(f\"Image counts per class: {dict(class_counts)}\")\n",
    "    \n",
    "    if balance_dataset:\n",
    "        min_count = min(class_counts.values())\n",
    "        print(f\"Balancing dataset. Each class will have {min_count} images.\")\n",
    "    else:\n",
    "        min_count = max(class_counts.values()) \n",
    "    \n",
    "    total_images = min_count * len(class_names)\n",
    "    pbar = tqdm(total=total_images, desc=\"Processing images\")\n",
    "    \n",
    "    for class_name in class_names:\n",
    "        class_path = os.path.join(folder_path, class_name)\n",
    "        class_images = [f for f in os.listdir(class_path) if os.path.isfile(os.path.join(class_path, f))]\n",
    "        \n",
    "        if balance_dataset:\n",
    "            class_images = random.sample(class_images, min_count)\n",
    "        \n",
    "        for img_name in class_images[:min_count]:  # Limit to min_count\n",
    "            img_path = os.path.join(class_path, img_name)\n",
    "            img = load_img(img_path, target_size=(picture_size, picture_size), color_mode=color_mode)\n",
    "            img_array = img_to_array(img)\n",
    "            images.append(img_array)\n",
    "            labels.append(class_name)\n",
    "            pbar.update(1)\n",
    "    \n",
    "    pbar.close()\n",
    "    \n",
    "    print(\"Converting to numpy array and normalizing...\")\n",
    "    images = np.array(images, dtype='float32') / 255.0\n",
    "    \n",
    "    print(\"Encoding labels...\")\n",
    "    le = LabelEncoder()\n",
    "    labels_encoded = le.fit_transform(labels)\n",
    "    labels_categorical = to_categorical(labels_encoded)\n",
    "    \n",
    "    return images, labels_categorical, le.classes_\n",
    "\n",
    "\n",
    "folder_path = \"images\"\n",
    "picture_size = 32\n",
    "train_path = os.path.join(folder_path, \"train\")\n",
    "X_train, y_train, class_names = preprocess_images(train_path, picture_size, balance_dataset=True)\n",
    "val_path = os.path.join(folder_path, \"validation\")\n",
    "X_val, y_val, _ = preprocess_images(val_path, picture_size, balance_dataset=True)\n",
    "\n",
    "print(f\"Training data shape: {X_train.shape}\")\n",
    "print(f\"Training labels shape: {y_train.shape}\")\n",
    "print(f\"Validation data shape: {X_val.shape}\")\n",
    "print(f\"Validation labels shape: {y_val.shape}\")\n",
    "print(f\"Number of classes: {len(class_names)}\")\n",
    "print(f\"Class names: {class_names}\")"
   ]
  },
  {
   "cell_type": "code",
   "execution_count": 6,
   "id": "9be6f14d",
   "metadata": {},
   "outputs": [
    {
     "name": "stderr",
     "output_type": "stream",
     "text": [
      "C:\\Anaconda\\Lib\\site-packages\\keras\\src\\layers\\convolutional\\base_conv.py:107: UserWarning: Do not pass an `input_shape`/`input_dim` argument to a layer. When using Sequential models, prefer using an `Input(shape)` object as the first layer in the model instead.\n",
      "  super().__init__(activity_regularizer=activity_regularizer, **kwargs)\n"
     ]
    }
   ],
   "source": [
    "from tensorflow.keras.models import Sequential\n",
    "from tensorflow.keras.layers import Conv2D, MaxPooling2D, Dense, Flatten, Dropout, BatchNormalization, Activation\n",
    "from tensorflow.keras.regularizers import l2\n",
    "from tensorflow.keras.optimizers import Adam\n",
    "from tensorflow.keras.callbacks import ReduceLROnPlateau, EarlyStopping\n",
    "\n",
    "def create_improved_model(input_shape, num_classes):\n",
    "    model = Sequential([\n",
    "        Conv2D(32, (3,3), padding='same', input_shape=input_shape, kernel_regularizer=l2(0.0001)),\n",
    "        BatchNormalization(),\n",
    "        Activation('relu'),\n",
    "        MaxPooling2D(pool_size=(2,2)),\n",
    "        Dropout(0.3),\n",
    "        \n",
    "        Conv2D(64, (3,3), padding='same', kernel_regularizer=l2(0.0001)),\n",
    "        BatchNormalization(),\n",
    "        Activation('relu'),\n",
    "        MaxPooling2D(pool_size=(2,2)),\n",
    "        Dropout(0.3),\n",
    "        \n",
    "        Conv2D(128, (3,3), padding='same', kernel_regularizer=l2(0.0001)),\n",
    "        BatchNormalization(),\n",
    "        Activation('relu'),\n",
    "        MaxPooling2D(pool_size=(2,2)),\n",
    "        Dropout(0.4),\n",
    "        \n",
    "        Flatten(),\n",
    "        Dense(256, kernel_regularizer=l2(0.0001)),\n",
    "        BatchNormalization(),\n",
    "        Activation('relu'),\n",
    "        Dropout(0.5),\n",
    "        \n",
    "        Dense(num_classes, activation='softmax')\n",
    "    ])\n",
    "    \n",
    "    optimizer = Adam(learning_rate=0.001)\n",
    "    model.compile(optimizer=optimizer, loss='categorical_crossentropy', metrics=['accuracy'])\n",
    "    \n",
    "    return model\n",
    "\n",
    "\n",
    "reduce_lr = ReduceLROnPlateau(monitor='val_loss', factor=0.2, patience=3, min_lr=0.00001)\n",
    "early_stopping = EarlyStopping(monitor='val_accuracy', patience=10, restore_best_weights=True)\n",
    "\n",
    "\n",
    "input_shape = X_train.shape[1:]\n",
    "num_classes = y_train.shape[1]\n",
    "\n",
    "model = create_improved_model(input_shape, num_classes)\n",
    "\n"
   ]
  },
  {
   "cell_type": "code",
   "execution_count": 7,
   "id": "b309a7be",
   "metadata": {},
   "outputs": [
    {
     "name": "stdout",
     "output_type": "stream",
     "text": [
      "Epoch 1/100\n",
      "\u001b[1m601/601\u001b[0m \u001b[32m━━━━━━━━━━━━━━━━━━━━\u001b[0m\u001b[37m\u001b[0m \u001b[1m23s\u001b[0m 26ms/step - accuracy: 0.2267 - loss: 2.1357 - val_accuracy: 0.2482 - val_loss: 1.9222 - learning_rate: 0.0010\n",
      "Epoch 2/100\n",
      "\u001b[1m601/601\u001b[0m \u001b[32m━━━━━━━━━━━━━━━━━━━━\u001b[0m\u001b[37m\u001b[0m \u001b[1m17s\u001b[0m 29ms/step - accuracy: 0.3186 - loss: 1.7273 - val_accuracy: 0.3430 - val_loss: 1.7256 - learning_rate: 0.0010\n",
      "Epoch 3/100\n",
      "\u001b[1m601/601\u001b[0m \u001b[32m━━━━━━━━━━━━━━━━━━━━\u001b[0m\u001b[37m\u001b[0m \u001b[1m15s\u001b[0m 25ms/step - accuracy: 0.3722 - loss: 1.6193 - val_accuracy: 0.4262 - val_loss: 1.5206 - learning_rate: 0.0010\n",
      "Epoch 4/100\n",
      "\u001b[1m601/601\u001b[0m \u001b[32m━━━━━━━━━━━━━━━━━━━━\u001b[0m\u001b[37m\u001b[0m \u001b[1m15s\u001b[0m 26ms/step - accuracy: 0.4009 - loss: 1.5691 - val_accuracy: 0.4448 - val_loss: 1.4812 - learning_rate: 0.0010\n",
      "Epoch 5/100\n",
      "\u001b[1m601/601\u001b[0m \u001b[32m━━━━━━━━━━━━━━━━━━━━\u001b[0m\u001b[37m\u001b[0m \u001b[1m16s\u001b[0m 26ms/step - accuracy: 0.4250 - loss: 1.5325 - val_accuracy: 0.4571 - val_loss: 1.4868 - learning_rate: 0.0010\n",
      "Epoch 6/100\n",
      "\u001b[1m601/601\u001b[0m \u001b[32m━━━━━━━━━━━━━━━━━━━━\u001b[0m\u001b[37m\u001b[0m \u001b[1m22s\u001b[0m 29ms/step - accuracy: 0.4415 - loss: 1.5042 - val_accuracy: 0.4573 - val_loss: 1.4836 - learning_rate: 0.0010\n",
      "Epoch 7/100\n",
      "\u001b[1m601/601\u001b[0m \u001b[32m━━━━━━━━━━━━━━━━━━━━\u001b[0m\u001b[37m\u001b[0m \u001b[1m19s\u001b[0m 31ms/step - accuracy: 0.4489 - loss: 1.5002 - val_accuracy: 0.4364 - val_loss: 1.5215 - learning_rate: 0.0010\n",
      "Epoch 8/100\n",
      "\u001b[1m601/601\u001b[0m \u001b[32m━━━━━━━━━━━━━━━━━━━━\u001b[0m\u001b[37m\u001b[0m \u001b[1m19s\u001b[0m 31ms/step - accuracy: 0.4643 - loss: 1.4698 - val_accuracy: 0.4992 - val_loss: 1.3886 - learning_rate: 2.0000e-04\n",
      "Epoch 9/100\n",
      "\u001b[1m601/601\u001b[0m \u001b[32m━━━━━━━━━━━━━━━━━━━━\u001b[0m\u001b[37m\u001b[0m \u001b[1m18s\u001b[0m 30ms/step - accuracy: 0.4771 - loss: 1.4372 - val_accuracy: 0.5069 - val_loss: 1.3759 - learning_rate: 2.0000e-04\n",
      "Epoch 10/100\n",
      "\u001b[1m601/601\u001b[0m \u001b[32m━━━━━━━━━━━━━━━━━━━━\u001b[0m\u001b[37m\u001b[0m \u001b[1m19s\u001b[0m 32ms/step - accuracy: 0.4904 - loss: 1.4141 - val_accuracy: 0.4816 - val_loss: 1.4135 - learning_rate: 2.0000e-04\n",
      "Epoch 11/100\n",
      "\u001b[1m601/601\u001b[0m \u001b[32m━━━━━━━━━━━━━━━━━━━━\u001b[0m\u001b[37m\u001b[0m \u001b[1m18s\u001b[0m 30ms/step - accuracy: 0.4876 - loss: 1.4195 - val_accuracy: 0.5142 - val_loss: 1.3550 - learning_rate: 2.0000e-04\n",
      "Epoch 12/100\n",
      "\u001b[1m601/601\u001b[0m \u001b[32m━━━━━━━━━━━━━━━━━━━━\u001b[0m\u001b[37m\u001b[0m \u001b[1m18s\u001b[0m 30ms/step - accuracy: 0.4902 - loss: 1.3981 - val_accuracy: 0.5205 - val_loss: 1.3457 - learning_rate: 2.0000e-04\n",
      "Epoch 13/100\n",
      "\u001b[1m601/601\u001b[0m \u001b[32m━━━━━━━━━━━━━━━━━━━━\u001b[0m\u001b[37m\u001b[0m \u001b[1m18s\u001b[0m 30ms/step - accuracy: 0.5006 - loss: 1.3894 - val_accuracy: 0.5234 - val_loss: 1.3341 - learning_rate: 2.0000e-04\n",
      "Epoch 14/100\n",
      "\u001b[1m601/601\u001b[0m \u001b[32m━━━━━━━━━━━━━━━━━━━━\u001b[0m\u001b[37m\u001b[0m \u001b[1m18s\u001b[0m 30ms/step - accuracy: 0.5131 - loss: 1.3562 - val_accuracy: 0.5151 - val_loss: 1.3344 - learning_rate: 2.0000e-04\n",
      "Epoch 15/100\n",
      "\u001b[1m601/601\u001b[0m \u001b[32m━━━━━━━━━━━━━━━━━━━━\u001b[0m\u001b[37m\u001b[0m \u001b[1m18s\u001b[0m 30ms/step - accuracy: 0.5088 - loss: 1.3519 - val_accuracy: 0.5224 - val_loss: 1.3221 - learning_rate: 2.0000e-04\n",
      "Epoch 16/100\n",
      "\u001b[1m601/601\u001b[0m \u001b[32m━━━━━━━━━━━━━━━━━━━━\u001b[0m\u001b[37m\u001b[0m \u001b[1m18s\u001b[0m 30ms/step - accuracy: 0.5108 - loss: 1.3480 - val_accuracy: 0.5209 - val_loss: 1.3177 - learning_rate: 2.0000e-04\n",
      "Epoch 17/100\n",
      "\u001b[1m601/601\u001b[0m \u001b[32m━━━━━━━━━━━━━━━━━━━━\u001b[0m\u001b[37m\u001b[0m \u001b[1m19s\u001b[0m 31ms/step - accuracy: 0.5250 - loss: 1.3290 - val_accuracy: 0.5297 - val_loss: 1.3109 - learning_rate: 2.0000e-04\n",
      "Epoch 18/100\n",
      "\u001b[1m601/601\u001b[0m \u001b[32m━━━━━━━━━━━━━━━━━━━━\u001b[0m\u001b[37m\u001b[0m \u001b[1m18s\u001b[0m 29ms/step - accuracy: 0.5202 - loss: 1.3344 - val_accuracy: 0.5312 - val_loss: 1.3088 - learning_rate: 2.0000e-04\n",
      "Epoch 19/100\n",
      "\u001b[1m601/601\u001b[0m \u001b[32m━━━━━━━━━━━━━━━━━━━━\u001b[0m\u001b[37m\u001b[0m \u001b[1m18s\u001b[0m 31ms/step - accuracy: 0.5262 - loss: 1.3304 - val_accuracy: 0.5194 - val_loss: 1.3194 - learning_rate: 2.0000e-04\n",
      "Epoch 20/100\n",
      "\u001b[1m601/601\u001b[0m \u001b[32m━━━━━━━━━━━━━━━━━━━━\u001b[0m\u001b[37m\u001b[0m \u001b[1m17s\u001b[0m 29ms/step - accuracy: 0.5172 - loss: 1.3287 - val_accuracy: 0.5280 - val_loss: 1.3064 - learning_rate: 2.0000e-04\n",
      "Epoch 21/100\n",
      "\u001b[1m601/601\u001b[0m \u001b[32m━━━━━━━━━━━━━━━━━━━━\u001b[0m\u001b[37m\u001b[0m \u001b[1m17s\u001b[0m 29ms/step - accuracy: 0.5250 - loss: 1.3137 - val_accuracy: 0.5385 - val_loss: 1.2923 - learning_rate: 2.0000e-04\n",
      "Epoch 22/100\n",
      "\u001b[1m601/601\u001b[0m \u001b[32m━━━━━━━━━━━━━━━━━━━━\u001b[0m\u001b[37m\u001b[0m \u001b[1m18s\u001b[0m 30ms/step - accuracy: 0.5391 - loss: 1.2951 - val_accuracy: 0.5422 - val_loss: 1.2946 - learning_rate: 2.0000e-04\n",
      "Epoch 23/100\n",
      "\u001b[1m601/601\u001b[0m \u001b[32m━━━━━━━━━━━━━━━━━━━━\u001b[0m\u001b[37m\u001b[0m \u001b[1m18s\u001b[0m 29ms/step - accuracy: 0.5346 - loss: 1.3026 - val_accuracy: 0.5397 - val_loss: 1.2817 - learning_rate: 2.0000e-04\n",
      "Epoch 24/100\n",
      "\u001b[1m601/601\u001b[0m \u001b[32m━━━━━━━━━━━━━━━━━━━━\u001b[0m\u001b[37m\u001b[0m \u001b[1m18s\u001b[0m 30ms/step - accuracy: 0.5317 - loss: 1.2885 - val_accuracy: 0.5477 - val_loss: 1.2747 - learning_rate: 2.0000e-04\n",
      "Epoch 25/100\n",
      "\u001b[1m601/601\u001b[0m \u001b[32m━━━━━━━━━━━━━━━━━━━━\u001b[0m\u001b[37m\u001b[0m \u001b[1m18s\u001b[0m 30ms/step - accuracy: 0.5384 - loss: 1.2946 - val_accuracy: 0.5418 - val_loss: 1.2745 - learning_rate: 2.0000e-04\n",
      "Epoch 26/100\n",
      "\u001b[1m601/601\u001b[0m \u001b[32m━━━━━━━━━━━━━━━━━━━━\u001b[0m\u001b[37m\u001b[0m \u001b[1m17s\u001b[0m 28ms/step - accuracy: 0.5443 - loss: 1.2659 - val_accuracy: 0.5071 - val_loss: 1.3533 - learning_rate: 2.0000e-04\n",
      "Epoch 27/100\n",
      "\u001b[1m601/601\u001b[0m \u001b[32m━━━━━━━━━━━━━━━━━━━━\u001b[0m\u001b[37m\u001b[0m \u001b[1m17s\u001b[0m 29ms/step - accuracy: 0.5456 - loss: 1.2695 - val_accuracy: 0.5330 - val_loss: 1.2901 - learning_rate: 2.0000e-04\n",
      "Epoch 28/100\n",
      "\u001b[1m601/601\u001b[0m \u001b[32m━━━━━━━━━━━━━━━━━━━━\u001b[0m\u001b[37m\u001b[0m \u001b[1m17s\u001b[0m 28ms/step - accuracy: 0.5533 - loss: 1.2488 - val_accuracy: 0.5462 - val_loss: 1.2604 - learning_rate: 2.0000e-04\n",
      "Epoch 29/100\n",
      "\u001b[1m601/601\u001b[0m \u001b[32m━━━━━━━━━━━━━━━━━━━━\u001b[0m\u001b[37m\u001b[0m \u001b[1m17s\u001b[0m 29ms/step - accuracy: 0.5472 - loss: 1.2577 - val_accuracy: 0.5450 - val_loss: 1.2677 - learning_rate: 2.0000e-04\n",
      "Epoch 30/100\n",
      "\u001b[1m601/601\u001b[0m \u001b[32m━━━━━━━━━━━━━━━━━━━━\u001b[0m\u001b[37m\u001b[0m \u001b[1m18s\u001b[0m 29ms/step - accuracy: 0.5421 - loss: 1.2626 - val_accuracy: 0.5414 - val_loss: 1.2746 - learning_rate: 2.0000e-04\n",
      "Epoch 31/100\n",
      "\u001b[1m601/601\u001b[0m \u001b[32m━━━━━━━━━━━━━━━━━━━━\u001b[0m\u001b[37m\u001b[0m \u001b[1m17s\u001b[0m 29ms/step - accuracy: 0.5536 - loss: 1.2426 - val_accuracy: 0.5475 - val_loss: 1.2654 - learning_rate: 2.0000e-04\n",
      "Epoch 32/100\n",
      "\u001b[1m601/601\u001b[0m \u001b[32m━━━━━━━━━━━━━━━━━━━━\u001b[0m\u001b[37m\u001b[0m \u001b[1m17s\u001b[0m 28ms/step - accuracy: 0.5559 - loss: 1.2348 - val_accuracy: 0.5552 - val_loss: 1.2468 - learning_rate: 4.0000e-05\n",
      "Epoch 33/100\n",
      "\u001b[1m601/601\u001b[0m \u001b[32m━━━━━━━━━━━━━━━━━━━━\u001b[0m\u001b[37m\u001b[0m \u001b[1m18s\u001b[0m 29ms/step - accuracy: 0.5602 - loss: 1.2375 - val_accuracy: 0.5554 - val_loss: 1.2456 - learning_rate: 4.0000e-05\n",
      "Epoch 34/100\n",
      "\u001b[1m601/601\u001b[0m \u001b[32m━━━━━━━━━━━━━━━━━━━━\u001b[0m\u001b[37m\u001b[0m \u001b[1m17s\u001b[0m 29ms/step - accuracy: 0.5629 - loss: 1.2235 - val_accuracy: 0.5596 - val_loss: 1.2431 - learning_rate: 4.0000e-05\n",
      "Epoch 35/100\n",
      "\u001b[1m601/601\u001b[0m \u001b[32m━━━━━━━━━━━━━━━━━━━━\u001b[0m\u001b[37m\u001b[0m \u001b[1m17s\u001b[0m 28ms/step - accuracy: 0.5683 - loss: 1.2204 - val_accuracy: 0.5521 - val_loss: 1.2554 - learning_rate: 4.0000e-05\n",
      "Epoch 36/100\n",
      "\u001b[1m601/601\u001b[0m \u001b[32m━━━━━━━━━━━━━━━━━━━━\u001b[0m\u001b[37m\u001b[0m \u001b[1m18s\u001b[0m 30ms/step - accuracy: 0.5690 - loss: 1.2143 - val_accuracy: 0.5586 - val_loss: 1.2419 - learning_rate: 4.0000e-05\n",
      "Epoch 37/100\n",
      "\u001b[1m601/601\u001b[0m \u001b[32m━━━━━━━━━━━━━━━━━━━━\u001b[0m\u001b[37m\u001b[0m \u001b[1m19s\u001b[0m 28ms/step - accuracy: 0.5629 - loss: 1.2247 - val_accuracy: 0.5571 - val_loss: 1.2399 - learning_rate: 4.0000e-05\n",
      "Epoch 38/100\n",
      "\u001b[1m601/601\u001b[0m \u001b[32m━━━━━━━━━━━━━━━━━━━━\u001b[0m\u001b[37m\u001b[0m \u001b[1m18s\u001b[0m 29ms/step - accuracy: 0.5697 - loss: 1.2089 - val_accuracy: 0.5563 - val_loss: 1.2402 - learning_rate: 4.0000e-05\n",
      "Epoch 39/100\n",
      "\u001b[1m601/601\u001b[0m \u001b[32m━━━━━━━━━━━━━━━━━━━━\u001b[0m\u001b[37m\u001b[0m \u001b[1m18s\u001b[0m 30ms/step - accuracy: 0.5637 - loss: 1.2126 - val_accuracy: 0.5556 - val_loss: 1.2423 - learning_rate: 4.0000e-05\n",
      "Epoch 40/100\n",
      "\u001b[1m601/601\u001b[0m \u001b[32m━━━━━━━━━━━━━━━━━━━━\u001b[0m\u001b[37m\u001b[0m \u001b[1m17s\u001b[0m 29ms/step - accuracy: 0.5707 - loss: 1.2045 - val_accuracy: 0.5586 - val_loss: 1.2394 - learning_rate: 4.0000e-05\n",
      "Epoch 41/100\n",
      "\u001b[1m601/601\u001b[0m \u001b[32m━━━━━━━━━━━━━━━━━━━━\u001b[0m\u001b[37m\u001b[0m \u001b[1m18s\u001b[0m 29ms/step - accuracy: 0.5703 - loss: 1.2015 - val_accuracy: 0.5583 - val_loss: 1.2384 - learning_rate: 4.0000e-05\n",
      "Epoch 42/100\n",
      "\u001b[1m601/601\u001b[0m \u001b[32m━━━━━━━━━━━━━━━━━━━━\u001b[0m\u001b[37m\u001b[0m \u001b[1m18s\u001b[0m 30ms/step - accuracy: 0.5685 - loss: 1.2086 - val_accuracy: 0.5558 - val_loss: 1.2404 - learning_rate: 4.0000e-05\n",
      "Epoch 43/100\n"
     ]
    },
    {
     "name": "stdout",
     "output_type": "stream",
     "text": [
      "\u001b[1m601/601\u001b[0m \u001b[32m━━━━━━━━━━━━━━━━━━━━\u001b[0m\u001b[37m\u001b[0m \u001b[1m17s\u001b[0m 28ms/step - accuracy: 0.5723 - loss: 1.1925 - val_accuracy: 0.5546 - val_loss: 1.2447 - learning_rate: 4.0000e-05\n",
      "Epoch 44/100\n",
      "\u001b[1m601/601\u001b[0m \u001b[32m━━━━━━━━━━━━━━━━━━━━\u001b[0m\u001b[37m\u001b[0m \u001b[1m17s\u001b[0m 28ms/step - accuracy: 0.5719 - loss: 1.2015 - val_accuracy: 0.5590 - val_loss: 1.2329 - learning_rate: 4.0000e-05\n"
     ]
    }
   ],
   "source": [
    "history = model.fit(\n",
    "    X_train, y_train,\n",
    "    validation_data=(X_val, y_val),\n",
    "    epochs=100,  \n",
    "    batch_size=32,  \n",
    "    callbacks=[reduce_lr, early_stopping]\n",
    ")"
   ]
  },
  {
   "cell_type": "code",
   "execution_count": 8,
   "id": "9c986923",
   "metadata": {},
   "outputs": [
    {
     "data": {
      "image/png": "[encoded data removed]",
      "text/plain": [
       "<Figure size 1200x400 with 2 Axes>"
      ]
     },
     "metadata": {},
     "output_type": "display_data"
    }
   ],
   "source": [
    "import matplotlib.pyplot as plt\n",
    "\n",
    "plt.figure(figsize=(12, 4))\n",
    "plt.subplot(1, 2, 1)\n",
    "plt.plot(history.history['accuracy'], label='Train Accuracy')\n",
    "plt.plot(history.history['val_accuracy'], label='Validation Accuracy')\n",
    "plt.legend()\n",
    "plt.title('Model Accuracy')\n",
    "\n",
    "plt.subplot(1, 2, 2)\n",
    "plt.plot(history.history['loss'], label='Train Loss')\n",
    "plt.plot(history.history['val_loss'], label='Validation Loss')\n",
    "plt.legend()\n",
    "plt.title('Model Loss')\n",
    "\n",
    "plt.show()"
   ]
  },
  {
   "cell_type": "code",
   "execution_count": 9,
   "id": "0c93c258",
   "metadata": {},
   "outputs": [],
   "source": [
    "early_stopping = EarlyStopping(monitor='val_accuracy', patience=20, restore_best_weights=True)"
   ]
  },
  {
   "cell_type": "code",
   "execution_count": 11,
   "id": "f9478e78",
   "metadata": {},
   "outputs": [
    {
     "name": "stderr",
     "output_type": "stream",
     "text": [
      "C:\\Anaconda\\Lib\\site-packages\\keras\\src\\layers\\convolutional\\base_conv.py:107: UserWarning: Do not pass an `input_shape`/`input_dim` argument to a layer. When using Sequential models, prefer using an `Input(shape)` object as the first layer in the model instead.\n",
      "  super().__init__(activity_regularizer=activity_regularizer, **kwargs)\n"
     ]
    }
   ],
   "source": [
    "model_2 = create_improved_model(input_shape, num_classes)"
   ]
  },
  {
   "cell_type": "code",
   "execution_count": 13,
   "id": "3511271b",
   "metadata": {},
   "outputs": [
    {
     "name": "stdout",
     "output_type": "stream",
     "text": [
      "Epoch 1/100\n",
      "\u001b[1m601/601\u001b[0m \u001b[32m━━━━━━━━━━━━━━━━━━━━\u001b[0m\u001b[37m\u001b[0m \u001b[1m15s\u001b[0m 24ms/step - accuracy: 0.3319 - loss: 1.7122 - val_accuracy: 0.3821 - val_loss: 1.5934 - learning_rate: 2.0000e-04\n",
      "Epoch 2/100\n",
      "\u001b[1m601/601\u001b[0m \u001b[32m━━━━━━━━━━━━━━━━━━━━\u001b[0m\u001b[37m\u001b[0m \u001b[1m15s\u001b[0m 25ms/step - accuracy: 0.3668 - loss: 1.6462 - val_accuracy: 0.3760 - val_loss: 1.6057 - learning_rate: 2.0000e-04\n",
      "Epoch 3/100\n",
      "\u001b[1m601/601\u001b[0m \u001b[32m━━━━━━━━━━━━━━━━━━━━\u001b[0m\u001b[37m\u001b[0m \u001b[1m15s\u001b[0m 25ms/step - accuracy: 0.3841 - loss: 1.6001 - val_accuracy: 0.3810 - val_loss: 1.6217 - learning_rate: 2.0000e-04\n",
      "Epoch 4/100\n",
      "\u001b[1m601/601\u001b[0m \u001b[32m━━━━━━━━━━━━━━━━━━━━\u001b[0m\u001b[37m\u001b[0m \u001b[1m16s\u001b[0m 27ms/step - accuracy: 0.3939 - loss: 1.5787 - val_accuracy: 0.4285 - val_loss: 1.4973 - learning_rate: 2.0000e-04\n",
      "Epoch 5/100\n",
      "\u001b[1m601/601\u001b[0m \u001b[32m━━━━━━━━━━━━━━━━━━━━\u001b[0m\u001b[37m\u001b[0m \u001b[1m16s\u001b[0m 27ms/step - accuracy: 0.4078 - loss: 1.5527 - val_accuracy: 0.3846 - val_loss: 1.5918 - learning_rate: 2.0000e-04\n",
      "Epoch 6/100\n",
      "\u001b[1m601/601\u001b[0m \u001b[32m━━━━━━━━━━━━━━━━━━━━\u001b[0m\u001b[37m\u001b[0m \u001b[1m17s\u001b[0m 29ms/step - accuracy: 0.4151 - loss: 1.5266 - val_accuracy: 0.4235 - val_loss: 1.5157 - learning_rate: 2.0000e-04\n",
      "Epoch 7/100\n",
      "\u001b[1m601/601\u001b[0m \u001b[32m━━━━━━━━━━━━━━━━━━━━\u001b[0m\u001b[37m\u001b[0m \u001b[1m17s\u001b[0m 29ms/step - accuracy: 0.4315 - loss: 1.5099 - val_accuracy: 0.4400 - val_loss: 1.4566 - learning_rate: 2.0000e-04\n",
      "Epoch 8/100\n",
      "\u001b[1m601/601\u001b[0m \u001b[32m━━━━━━━━━━━━━━━━━━━━\u001b[0m\u001b[37m\u001b[0m \u001b[1m18s\u001b[0m 30ms/step - accuracy: 0.4350 - loss: 1.4966 - val_accuracy: 0.4009 - val_loss: 1.5578 - learning_rate: 2.0000e-04\n",
      "Epoch 9/100\n",
      "\u001b[1m601/601\u001b[0m \u001b[32m━━━━━━━━━━━━━━━━━━━━\u001b[0m\u001b[37m\u001b[0m \u001b[1m20s\u001b[0m 32ms/step - accuracy: 0.4372 - loss: 1.4779 - val_accuracy: 0.4695 - val_loss: 1.4084 - learning_rate: 2.0000e-04\n",
      "Epoch 10/100\n",
      "\u001b[1m601/601\u001b[0m \u001b[32m━━━━━━━━━━━━━━━━━━━━\u001b[0m\u001b[37m\u001b[0m \u001b[1m18s\u001b[0m 30ms/step - accuracy: 0.4420 - loss: 1.4699 - val_accuracy: 0.4701 - val_loss: 1.4038 - learning_rate: 2.0000e-04\n",
      "Epoch 11/100\n",
      "\u001b[1m601/601\u001b[0m \u001b[32m━━━━━━━━━━━━━━━━━━━━\u001b[0m\u001b[37m\u001b[0m \u001b[1m17s\u001b[0m 29ms/step - accuracy: 0.4588 - loss: 1.4407 - val_accuracy: 0.4785 - val_loss: 1.3807 - learning_rate: 2.0000e-04\n",
      "Epoch 12/100\n",
      "\u001b[1m601/601\u001b[0m \u001b[32m━━━━━━━━━━━━━━━━━━━━\u001b[0m\u001b[37m\u001b[0m \u001b[1m17s\u001b[0m 28ms/step - accuracy: 0.4519 - loss: 1.4472 - val_accuracy: 0.4843 - val_loss: 1.3766 - learning_rate: 2.0000e-04\n",
      "Epoch 13/100\n",
      "\u001b[1m601/601\u001b[0m \u001b[32m━━━━━━━━━━━━━━━━━━━━\u001b[0m\u001b[37m\u001b[0m \u001b[1m17s\u001b[0m 28ms/step - accuracy: 0.4679 - loss: 1.4197 - val_accuracy: 0.4797 - val_loss: 1.3724 - learning_rate: 2.0000e-04\n",
      "Epoch 14/100\n",
      "\u001b[1m601/601\u001b[0m \u001b[32m━━━━━━━━━━━━━━━━━━━━\u001b[0m\u001b[37m\u001b[0m \u001b[1m16s\u001b[0m 27ms/step - accuracy: 0.4638 - loss: 1.4215 - val_accuracy: 0.4839 - val_loss: 1.3629 - learning_rate: 2.0000e-04\n",
      "Epoch 15/100\n",
      "\u001b[1m601/601\u001b[0m \u001b[32m━━━━━━━━━━━━━━━━━━━━\u001b[0m\u001b[37m\u001b[0m \u001b[1m17s\u001b[0m 27ms/step - accuracy: 0.4689 - loss: 1.4048 - val_accuracy: 0.4885 - val_loss: 1.3661 - learning_rate: 2.0000e-04\n",
      "Epoch 16/100\n",
      "\u001b[1m601/601\u001b[0m \u001b[32m━━━━━━━━━━━━━━━━━━━━\u001b[0m\u001b[37m\u001b[0m \u001b[1m18s\u001b[0m 30ms/step - accuracy: 0.4801 - loss: 1.3952 - val_accuracy: 0.4948 - val_loss: 1.3445 - learning_rate: 2.0000e-04\n",
      "Epoch 17/100\n",
      "\u001b[1m601/601\u001b[0m \u001b[32m━━━━━━━━━━━━━━━━━━━━\u001b[0m\u001b[37m\u001b[0m \u001b[1m17s\u001b[0m 28ms/step - accuracy: 0.4860 - loss: 1.3790 - val_accuracy: 0.4676 - val_loss: 1.4101 - learning_rate: 2.0000e-04\n",
      "Epoch 18/100\n",
      "\u001b[1m601/601\u001b[0m \u001b[32m━━━━━━━━━━━━━━━━━━━━\u001b[0m\u001b[37m\u001b[0m \u001b[1m17s\u001b[0m 28ms/step - accuracy: 0.4916 - loss: 1.3739 - val_accuracy: 0.5044 - val_loss: 1.3162 - learning_rate: 2.0000e-04\n",
      "Epoch 19/100\n",
      "\u001b[1m601/601\u001b[0m \u001b[32m━━━━━━━━━━━━━━━━━━━━\u001b[0m\u001b[37m\u001b[0m \u001b[1m17s\u001b[0m 28ms/step - accuracy: 0.4860 - loss: 1.3636 - val_accuracy: 0.5123 - val_loss: 1.3194 - learning_rate: 2.0000e-04\n",
      "Epoch 20/100\n",
      "\u001b[1m601/601\u001b[0m \u001b[32m━━━━━━━━━━━━━━━━━━━━\u001b[0m\u001b[37m\u001b[0m \u001b[1m17s\u001b[0m 28ms/step - accuracy: 0.4913 - loss: 1.3626 - val_accuracy: 0.5067 - val_loss: 1.3241 - learning_rate: 2.0000e-04\n"
     ]
    }
   ],
   "source": [
    "history_2 = model_2.fit(\n",
    "    X_train, y_train,\n",
    "    validation_data=(X_val, y_val),\n",
    "    epochs=100,  \n",
    "    batch_size=32,  \n",
    "    callbacks=[reduce_lr, early_stopping]\n",
    ")"
   ]
  }
 ],
 "metadata": {
  "kernelspec": {
   "display_name": "Python 3",
   "language": "python",
   "name": "python3"
  },
  "language_info": {
   "codemirror_mode": {
    "name": "ipython",
    "version": 3
   },
   "file_extension": ".py",
   "mimetype": "text/x-python",
   "name": "python",
   "nbconvert_exporter": "python",
   "pygments_lexer": "ipython3",
   "version": "3.12.2"
  }
 },
 "nbformat": 4,
 "nbformat_minor": 5
}
